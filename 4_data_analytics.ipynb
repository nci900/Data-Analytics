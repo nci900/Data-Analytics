{
 "cells": [
  {
   "cell_type": "markdown",
   "id": "24f8a202-ab20-4dea-8b4d-3f5724f6c278",
   "metadata": {},
   "source": [
    "# Data Processing and Analytics"
   ]
  },
  {
   "cell_type": "markdown",
   "id": "4ebee7ed-7a55-4a4f-928d-87ff4e1922ec",
   "metadata": {},
   "source": [
    "This notebook will show you the workflow of a typical data analytic job in pandas and teach you how to make GIF for timeseries data, and making map plots using an Xarray like plot library."
   ]
  },
  {
   "cell_type": "code",
   "execution_count": null,
   "id": "1bc23d4f-2b0b-4fb1-b0b5-1a503453593f",
   "metadata": {},
   "outputs": [],
   "source": [
    "import os\n",
    "# The jupyter notebook is launched from your $HOME directory.\n",
    "# Change the working directory to the folder\n",
    "# which was created in your username directory under /scratch/vp91\n",
    "\n",
    "#TODO \n",
    "os.chdir(os.path.expandvars(\"/scratch/vp91/$USER/Data-Analytics/\"))\n"
   ]
  },
  {
   "cell_type": "code",
   "execution_count": null,
   "id": "d4716aab-33f3-49d0-85c1-34035e3f9670",
   "metadata": {},
   "outputs": [],
   "source": [
    "import numpy as np\n",
    "import pandas as pd\n",
    "import matplotlib.pyplot as plt\n",
    "import seaborn as sns\n",
    "from scipy import stats\n",
    "import xarray as xr\n",
    "import matplotlib.animation as animation \n",
    "import os\n",
    "import iris\n",
    "import matplotlib.dates as mdates\n",
    "import iris.plot as iplt"
   ]
  },
  {
   "cell_type": "markdown",
   "id": "116c68b0-5a3e-432e-b0c5-deacdce40c79",
   "metadata": {},
   "source": [
    "# About the Dataset  \n",
    "## Context  \n",
    "The California Cooperative Oceanic Fisheries Investigations (CalCOFI) are a unique partnership of the California Department of Fish & Wildlife, NOAA Fisheries Service and Scripps Institution of Oceanography. The organization was formed in 1949 to study the ecological aspects of the sardine population collapse off California.  \n",
    "\n",
    "The CalCOFI data set represents the longest (1949-present) and most complete (more than 50,000 sampling stations) time series of oceanographic and larval fish data in the world. It includes abundance data on the larvae of over 250 species of fish; larval length frequency data and egg abundance data on key commercial species; and oceanographic and plankton data. The physical, chemical, and biological data collected at regular time and space intervals quickly became valuable for documenting climatic cycles in the California Current and a range of biological responses to them.  \n",
    "\n",
    "Data collected at depths down to 500 m include: temperature, salinity, oxygen, phosphate, silicate, nitrate and nitrite, chlorophyll, transmissometer, PAR, C14 primary productivity, phytoplankton biodiversity, zooplankton biomass, and zooplankton biodiversity."
   ]
  },
  {
   "cell_type": "code",
   "execution_count": null,
   "id": "c0608a68-c5c4-4e2d-857f-0ef251fb3f22",
   "metadata": {},
   "outputs": [],
   "source": [
    "dataframe_raw = pd.read_csv('/scratch/vp91/zxw900/AAPP_pytorch/CalCOFI_bottle.csv')\n",
    "dataframe_raw.head()"
   ]
  },
  {
   "cell_type": "markdown",
   "id": "e5dd943c-9fda-4910-b1a1-e6b79ad05893",
   "metadata": {},
   "source": [
    "# Pandas - Data Exploration And Anlysis"
   ]
  },
  {
   "cell_type": "markdown",
   "id": "9f31a46f-5b85-4c00-baee-4560674328cc",
   "metadata": {},
   "source": [
    "## Data Overview"
   ]
  },
  {
   "cell_type": "markdown",
   "id": "6ea9d2cd-4c6c-4c67-a924-841f51afa693",
   "metadata": {},
   "source": [
    "From the dateframe above, we can see this dataframe has 74 columns! And we can already see a lot of NaN values. Let's have a look how many NA values for each column:"
   ]
  },
  {
   "cell_type": "code",
   "execution_count": null,
   "id": "599b1ff9-617b-45c1-9958-330674b42139",
   "metadata": {},
   "outputs": [],
   "source": [
    "dataframe_raw.info()"
   ]
  },
  {
   "cell_type": "markdown",
   "id": "417d4f12-d396-4092-b8cb-2b344b382327",
   "metadata": {},
   "source": [
    "So not all columns are useful, especially those with mostly empty values. To have a look at numerical value distributions, we can also call the `DataFrame.describe()` function in pandas:"
   ]
  },
  {
   "cell_type": "code",
   "execution_count": null,
   "id": "43e927df-1111-48a8-b4d2-0edeb20886b3",
   "metadata": {},
   "outputs": [],
   "source": [
    "dataframe_raw.describe()"
   ]
  },
  {
   "cell_type": "markdown",
   "id": "ba902954-d7c2-4420-ba2a-2eca2aee8b2f",
   "metadata": {},
   "source": [
    "## Narrow Down Your Focus"
   ]
  },
  {
   "cell_type": "markdown",
   "id": "3a89fed7-9624-4224-8e9a-c32573dce245",
   "metadata": {},
   "source": [
    "Let's select first a few columns based on the column value description above and less null values. Some column descriptions as below:  \n",
    "- `Depthm` which indicates the datacollection bottle depth in the sea\n",
    "- `T_degC` which records the water temperature\n",
    "- `Salnty` which is the Salinity in g of salt per kg of water (g/kg)\n",
    "- `O2ml_L` which represents O2 mixing ration in ml/L  \n",
    "- `O2Sat` which is the Oxygen sacturation level\n"
   ]
  },
  {
   "cell_type": "code",
   "execution_count": null,
   "id": "121148e4-45fb-45a6-86f0-b63146ad94b9",
   "metadata": {},
   "outputs": [],
   "source": [
    "calcofi_subset = dataframe_raw.loc[:,'Depthm':'O2Satq']"
   ]
  },
  {
   "cell_type": "code",
   "execution_count": null,
   "id": "2d28910e-2093-40f8-b7a6-8b4d6d1ab7f3",
   "metadata": {},
   "outputs": [],
   "source": [
    "#let's get the column names\n",
    "input_cols = list(calcofi_subset.columns.values)\n",
    "print(input_cols)"
   ]
  },
  {
   "cell_type": "markdown",
   "id": "1bc06ee9-f1ab-4221-8e21-343d120e20c8",
   "metadata": {},
   "source": [
    "Now let's use the correlation function to see if any of these columns are showing correlated features: "
   ]
  },
  {
   "cell_type": "code",
   "execution_count": null,
   "id": "c4d975a5-9b3d-43a1-ad88-f8484dcc40fe",
   "metadata": {},
   "outputs": [],
   "source": [
    "# Compute the correlation matrix\n",
    "# corr = calcofi_subset.drop(['T_degC'], axis=1).corr()\n",
    "corr = calcofi_subset.corr()\n",
    "\n",
    "# Set up the matplotlib figure\n",
    "f, ax = plt.subplots(figsize=(15, 15))\n",
    "cmap = sns.diverging_palette(200, 10, as_cmap=True)\n",
    "sns.heatmap(corr, cmap=cmap, annot=True, cbar_kws={\"shrink\": .5});"
   ]
  },
  {
   "cell_type": "markdown",
   "id": "c89ebc9e-d7b1-4f0a-b4f8-94dc7a485023",
   "metadata": {},
   "source": [
    "From the heatmap we can observe many correlated columns through the red highlights. Now if we want to know what effects the sea water temperture, we can easily identify columns like O2ml_L, O2Sat, Oxy_µmol/Kg, etc. But there are also some columns on the right hand side looks like having negative correlations with T_degC values. Let's plot the correlation values for the water temperature and have a more camparision."
   ]
  },
  {
   "cell_type": "code",
   "execution_count": null,
   "id": "06cf3d72-9984-4871-ad37-8878d8750f08",
   "metadata": {},
   "outputs": [],
   "source": [
    "corr_with_temp = calcofi_subset.corr()['T_degC'].sort_values(ascending=False)\n",
    "plt.figure(figsize=(10,10))\n",
    "corr_with_temp.drop('T_degC').plot.bar()\n",
    "plt.show();"
   ]
  },
  {
   "cell_type": "markdown",
   "id": "e52a23db-efc8-4d5a-8ecc-58c5d0e43cd6",
   "metadata": {},
   "source": [
    "## Dealing with NA Values"
   ]
  },
  {
   "cell_type": "markdown",
   "id": "79b63131-6329-42f1-83f7-28aa0b7b5545",
   "metadata": {},
   "source": [
    "Now we single out above columns with water temperature and examine the data in detail to see how much null values they have and how can we deal with it."
   ]
  },
  {
   "cell_type": "code",
   "execution_count": null,
   "id": "f096e324-dc2a-47e6-9807-bc51c2d48061",
   "metadata": {},
   "outputs": [],
   "source": [
    "dataframe = calcofi_subset.filter(items=['T_degC', 'Depthm', 'Salnty', 'O2ml_L', 'STheta', 'O2Sat', 'Oxy_µmol/Kg'])\n",
    "# count null values in dataframe\n",
    "dataframe.isnull().sum()"
   ]
  },
  {
   "cell_type": "markdown",
   "id": "36a9230b-e8ba-4d6a-9a58-6b5880d593d0",
   "metadata": {},
   "source": [
    "How to approach null values depends on your downstream tasks and the original data distribution. Idealy data would be normally distributed like a bell shaped histogram. So here we compare 2 methods of dealing NA values, dropping all na values and padding them with mean values."
   ]
  },
  {
   "cell_type": "code",
   "execution_count": null,
   "id": "d946fd9f-85c3-4420-a78b-4f8e9623284c",
   "metadata": {},
   "outputs": [],
   "source": [
    "# Let's compare for each variable options fillna() vs mean()\n",
    "fig, ax=plt.subplots(1,2)\n",
    "sns.histplot(dataframe.T_degC.dropna(), ax=ax[0])\n",
    "ax[0].set_title(\"Dropna\")\n",
    "sns.histplot(dataframe.T_degC.fillna(dataframe.T_degC.mean()), ax=ax[1])\n",
    "ax[1].set_title(\"Fillna with mean\")\n",
    "\n",
    "fig, ax=plt.subplots(1,2)\n",
    "sns.histplot(dataframe.Salnty.dropna(), ax=ax[0])\n",
    "ax[0].set_title(\"Dropna\")\n",
    "sns.histplot(dataframe.Salnty.fillna(dataframe.Salnty.mean()), ax=ax[1])\n",
    "ax[1].set_title(\"Fillna with mean\")\n",
    "\n",
    "fig, ax=plt.subplots(1,2)\n",
    "sns.histplot(dataframe.O2ml_L.dropna(), ax=ax[0])\n",
    "ax[0].set_title(\"Dropna\")\n",
    "sns.histplot(dataframe.O2ml_L.fillna(dataframe.O2ml_L.mean()), ax=ax[1])\n",
    "ax[1].set_title(\"Fillna with mean\")\n",
    "\n",
    "fig, ax=plt.subplots(1,2)\n",
    "sns.histplot(dataframe.STheta.dropna(), ax=ax[0])\n",
    "ax[0].set_title(\"Dropna\")\n",
    "sns.histplot(dataframe.STheta.fillna(dataframe.STheta.mean()), ax=ax[1])\n",
    "ax[1].set_title(\"Fillna with mean\")\n",
    "\n",
    "fig, ax=plt.subplots(1,2)\n",
    "sns.histplot(dataframe.O2Sat.dropna(), ax=ax[0])\n",
    "ax[0].set_title(\"Dropna\")\n",
    "sns.histplot(dataframe.O2Sat.fillna(dataframe.O2Sat.mean()), ax=ax[1])\n",
    "ax[1].set_title(\"Fillna with mean\")\n",
    "\n",
    "fig, ax=plt.subplots(1,2)\n",
    "sns.histplot(dataframe['Oxy_µmol/Kg'].dropna(), ax=ax[0])\n",
    "ax[0].set_title(\"Dropna\")\n",
    "sns.histplot(dataframe['Oxy_µmol/Kg'].fillna(dataframe['Oxy_µmol/Kg'].mean()), ax=ax[1])\n",
    "ax[1].set_title(\"Fillna with mean\")"
   ]
  },
  {
   "cell_type": "markdown",
   "id": "b0a1f013-dd67-44fe-8d58-64619d43f763",
   "metadata": {},
   "source": [
    "We usually would want the data to be closer to normalised distribution, which is higher counts towards the centre of the graph. So let's try fill NA values with mean values so we don't lose too much data."
   ]
  },
  {
   "cell_type": "code",
   "execution_count": null,
   "id": "58362110-3586-4dd2-922a-854a25b71ec4",
   "metadata": {},
   "outputs": [],
   "source": [
    "def customize_dataset(data):\n",
    "    dataframe = data.copy(deep=True)\n",
    "    #select only 7 variables\n",
    "    dataframe = dataframe.filter(items=['T_degC', 'Depthm', 'Salnty', 'O2ml_L', 'STheta', 'O2Sat', 'Oxy_µmol/Kg'])\n",
    "    #fill na values with mean\n",
    "    dataframe = dataframe.groupby(dataframe.columns, axis = 1).transform(lambda x: x.fillna(x.mean()))\n",
    "    return dataframe"
   ]
  },
  {
   "cell_type": "code",
   "execution_count": null,
   "id": "ac17ece7-f45f-49b8-be1e-21e78c311535",
   "metadata": {},
   "outputs": [],
   "source": [
    "df = customize_dataset(calcofi_subset)\n",
    "# verify that processed dataframe has no NA values now.\n",
    "df.isnull().sum() "
   ]
  },
  {
   "cell_type": "markdown",
   "id": "d49ee96d-5d5e-423e-8e87-fd5e0f3525af",
   "metadata": {},
   "source": [
    "Now remember a correlation does not necessarily mean it is a linear relationship. We can plot the scatter plots to see the more detailed distribution relationships between each column and water temperature."
   ]
  },
  {
   "cell_type": "code",
   "execution_count": null,
   "id": "998020a5-fa38-4de2-81f2-25414f8d29db",
   "metadata": {},
   "outputs": [],
   "source": [
    "fig, ax = plt.subplots(2,3,figsize=(20,15))\n",
    "#fig 1\n",
    "sns.scatterplot(x=df['Depthm'], y=df['T_degC'],ax=ax[0][0],color='#39ac73')\n",
    "ax[0,0].set_title('relation Between Depthm and T_degC ')\n",
    "#fig 2\n",
    "sns.scatterplot(x=df['Salnty'], y=df['T_degC'], color='#3385ff',ax=ax[0][1])\n",
    "ax[0][1].set_title('relation Between Salnty and T_degC ')\n",
    "#fig 3\n",
    "sns.scatterplot(x=df['O2ml_L'], y=df['T_degC'], color='#ff5c33',ax=ax[0][2])\n",
    "ax[0][2].set_title('relation Between O2ml_L and T_degC ')\n",
    "#fig 4\n",
    "sns.scatterplot(x=df['STheta'],y=df['T_degC'], color='#cccc00',ax=ax[1][0])\n",
    "ax[1][0].set_title('relation Between STheta and T_degC ')\n",
    "#fig 5\n",
    "sns.scatterplot(x=df['O2Sat'],y=df['T_degC'], color='#cccc00',ax=ax[1][1])\n",
    "ax[1][1].set_title('relation Between O2Sat and T_degC ')\n",
    "#fig 6\n",
    "sns.scatterplot(x=df['Oxy_µmol/Kg'],y=df['T_degC'], color='#cccc00',ax=ax[1][2])\n",
    "ax[1][2].set_title('relation Between Oxy_µmol/Kg and T_degC ')\n",
    "plt.show()"
   ]
  },
  {
   "cell_type": "markdown",
   "id": "95bb6b26-9f12-497d-a7ce-0295894e038a",
   "metadata": {},
   "source": [
    "However if we only focus on the oxygen level columns, the linear relationship is very obvioius."
   ]
  },
  {
   "cell_type": "code",
   "execution_count": null,
   "id": "6a75aa23-ecb9-4970-87f7-21ba08610d4c",
   "metadata": {},
   "outputs": [],
   "source": [
    "fig, ax = plt.subplots(1,2,figsize=(10,4))\n",
    "#fig 1\n",
    "sns.scatterplot(x=dataframe['O2Sat'], y=dataframe['O2ml_L'],ax=ax[0],color='#39ac73')\n",
    "ax[0].set_title('relation Between O2Sat and O2ml_L ')\n",
    "#fig 2\n",
    "sns.scatterplot(x=dataframe['O2ml_L'], y=dataframe['Oxy_µmol/Kg'],ax=ax[1],color='#39ac73')\n",
    "ax[1].set_title('relation Between O2ml_L and Oxy_µmol/Kg ')\n"
   ]
  },
  {
   "cell_type": "markdown",
   "id": "5a7b8f9b-02db-4d9c-8341-1b0aba211220",
   "metadata": {},
   "source": [
    "# Xarry - Making a GIF For Sea Surface Temperature Temporal Plots"
   ]
  },
  {
   "cell_type": "code",
   "execution_count": null,
   "id": "9d3acd13-1056-40d3-9034-11d1b0c09136",
   "metadata": {},
   "outputs": [],
   "source": [
    "### define data file of interest and open using xarray\n",
    "data_path = \"/scratch/vp91/zxw900/sea_surf_temp_data/*.nc\"\n",
    "f = xr.open_mfdataset(data_path)"
   ]
  },
  {
   "cell_type": "code",
   "execution_count": null,
   "id": "7604a33d-2c34-44c1-9ff6-8ed7dd52006b",
   "metadata": {},
   "outputs": [],
   "source": [
    "f"
   ]
  },
  {
   "cell_type": "code",
   "execution_count": null,
   "id": "51190be3-17d8-41b1-b24c-2191f6b63176",
   "metadata": {},
   "outputs": [],
   "source": [
    "# Pick your favourite location in the ocean.\n",
    "# We choose somewhere in the Bass Strait \n",
    "timeseries = f.sst.sel(lon=145.0,lat=-39.0,method='nearest')"
   ]
  },
  {
   "cell_type": "code",
   "execution_count": null,
   "id": "ae04149e-5ce9-49c6-a5f8-26306096042f",
   "metadata": {},
   "outputs": [],
   "source": [
    "x = range(1, len(timeseries.time)+1)\n",
    "y = timeseries.values"
   ]
  },
  {
   "cell_type": "markdown",
   "id": "b7d0e07f-7856-4084-85c5-fd79197c5b2b",
   "metadata": {},
   "source": [
    "Now, we can plot the the temporal temperature changes at the location we chose."
   ]
  },
  {
   "cell_type": "code",
   "execution_count": null,
   "id": "45808a59-3505-4d57-9a19-7aa03266ca58",
   "metadata": {},
   "outputs": [],
   "source": [
    "### set up figure\n",
    "plt.style.use('dark_background')\n",
    "fig = plt.figure() \n",
    "ax = plt.axes(xlim=(1, len(x)), ylim=(min(y)-5,max(y)+5)) \n",
    "line, = ax.plot([], [], lw=2) \n",
    "\n",
    "### define initialisation function \n",
    "def init(): \n",
    "    ### creating an empty plot/frame \n",
    "    line.set_data([], []) \n",
    "    return line, \n",
    "\n",
    "### define lists to store x and y axis points \n",
    "xdata, ydata = [], [] \n",
    "\n",
    "### define animation function \n",
    "def animate(i): \n",
    "\n",
    "    ### x and y values to be plotted \n",
    "    x1 = x[i] \n",
    "    y1 = y[i] \n",
    "\n",
    "   ### appending new points to x1, y1 axiss points list \n",
    "    xdata.append(x1) \n",
    "    ydata.append(y1) \n",
    "    line.set_data(xdata, ydata) \n",
    "    return line, \n",
    "\n",
    "### setting a title for the plot \n",
    "plt.title('Sea Surface Temperature [1960 - 2016]') \n",
    "### defining the axis details \n",
    "plt.axis('on') \n",
    "plt.ylabel('Temperature (C)')\n",
    "plt.xlabel('year')\n",
    "plt.xticks([0,130,260,390, 520, 650], \n",
    "           ['1960', '1970', '1980','1990','2000','2010'])\n",
    "\n",
    "### call the animator\t \n",
    "anim = animation.FuncAnimation(fig, animate, init_func=init, \n",
    "\t\t\t\t\t\t\tframes=len(x), interval=20, blit=True) \n",
    "\n",
    "### create output directory\n",
    "outdir = './output'\n",
    "if not os.path.exists(outdir):\n",
    "    os.mkdir(outdir)\n",
    "\n",
    "### save the animation as a GIF file \n",
    "animation_file = './output/timeseries.gif'\n",
    "\n",
    "anim.save(animation_file,writer='imagemagick')\n"
   ]
  },
  {
   "cell_type": "markdown",
   "id": "9233dd6b-2a8e-4744-849b-69419bfabd47",
   "metadata": {},
   "source": [
    "After saving the GIF file, run this cell to play it here:\n",
    "![SegmentLocal](./output/timeseries.gif \"segment\")\n"
   ]
  },
  {
   "cell_type": "code",
   "execution_count": null,
   "id": "3ffdb0b1-0641-4bef-adb6-e16772657da8",
   "metadata": {},
   "outputs": [],
   "source": [
    "# TODO -  We can see a seasonal change of sst value in the GIF, but how about the average temperature per year?\n",
    "# Changing above code to plot the change of average sea surface temperature over the years"
   ]
  },
  {
   "cell_type": "markdown",
   "id": "293a8574-7c7e-4ba6-b009-e90040ef5881",
   "metadata": {},
   "source": [
    "# Xarray - Sea Surface Temperature Map Plots"
   ]
  },
  {
   "cell_type": "markdown",
   "id": "3eef8325-d8e8-4002-93ed-b7f055932ae0",
   "metadata": {},
   "source": [
    "`Iris` is one of the most popular python library for scientific plots with geogrpahic data. It can read netCDF directly like Xarray and keep the metadata field and use them for plotting! It gives you a powerful, format-agnostic interface for working with your data. It excels when working with multi-dimensional Earth Science data, where tabular representations become unwieldy and inefficient.  \n",
    "\n",
    "A number of file formats are recognised by Iris, including CF-compliant NetCDF, GRIB, and PP, and it has a plugin architecture to allow other formats to be added seamlessly.\n",
    "\n",
    "Building upon NumPy and dask, Iris scales from efficient single-machine workflows right through to multi-core clusters and HPC. Interoperability with packages from the wider scientific Python ecosystem comes from Iris’ use of standard NumPy/dask arrays as its underlying data storage.\n",
    "\n",
    "We load the same data files like below, you can expand each row to see the Iris description of the data as well. "
   ]
  },
  {
   "cell_type": "code",
   "execution_count": null,
   "id": "7f1db4b5-c6be-45fb-8a06-b8531e5f9151",
   "metadata": {},
   "outputs": [],
   "source": [
    "cubes = iris.load(data_path, 'sea_surface_temperature')\n",
    "cubes"
   ]
  },
  {
   "cell_type": "markdown",
   "id": "2d5c3118-026f-48be-b52b-351f2567622a",
   "metadata": {},
   "source": [
    "The data cube is the object to store `.nc` dataset in Iris. You can \"filter\" a region by accessing lat and lon values and get a CubeList."
   ]
  },
  {
   "cell_type": "code",
   "execution_count": null,
   "id": "bf43aa7a-31c9-4774-802a-6d3872992e32",
   "metadata": {},
   "outputs": [],
   "source": [
    "Australia = cubes.extract(iris.Constraint(latitude=lambda v: -50 < v < -10, \n",
    "                                          longitude=lambda vv: 110 < vv < 155))\n",
    "\n",
    "Globe = cubes.extract(iris.Constraint(latitude=lambda v: -90 <= v <= 90, \n",
    "                                      longitude=lambda vv: 0 <= vv <= 360))"
   ]
  },
  {
   "cell_type": "code",
   "execution_count": null,
   "id": "cc7ad3b2-8f10-4316-b7d1-0a8a3ab4fe97",
   "metadata": {},
   "outputs": [],
   "source": [
    "type(Australia)"
   ]
  },
  {
   "cell_type": "markdown",
   "id": "ddca11f4-e388-4cc5-bd24-669788925f90",
   "metadata": {},
   "source": [
    "Since Iris using the similar data representation like Xarry, you can easily compute the mean over a year as well. Since we have extracted CubeList from above cells, Iris can `collapse` data in each element of the list, in our case within a year, and apply `iris.analysis.MEAN` function over it. "
   ]
  },
  {
   "cell_type": "code",
   "execution_count": null,
   "id": "b71e76f6-e1fd-48cc-af61-6cc3b9e87991",
   "metadata": {},
   "outputs": [],
   "source": [
    "# some graphic design stuff\n",
    "# Create a wider than normal figure to support our two plots\n",
    "plt.figure(figsize=(12, 8), dpi=100)\n",
    "# Manually adjust the spacings which are used when creating subplots\n",
    "plt.subplots_adjust(hspace=0.05, wspace=0.3, top=0.95, bottom=0.05, left=0.075, right=0.925)\n",
    "\n",
    " \n",
    "year = 2016\n",
    "i = year-1960\n",
    "# calculate the mean of a variable for our regions in Iris\n",
    "cube_aus = Australia[i].collapsed('time', iris.analysis.MEAN)\n",
    "cube_globe = Globe[i].collapsed('time', iris.analysis.MEAN)\n",
    "\n",
    "# Plot for Australia\n",
    "plt.subplot(1, 2, 1) # 1 row, 2 columns, 1st plot\n",
    "cf_aus = iplt.contourf(cube_aus, 20)\n",
    "\n",
    "# more graphic design stuff\n",
    "plt.gca().coastlines()\n",
    "colorbar_aus = plt.colorbar(cf_aus, orientation='horizontal')\n",
    "plt.title('Australia ' + str(year))\n",
    "\n",
    "# Plot for Globe\n",
    "plt.subplot(1, 2, 2) # 1 row, 2 columns, 2nd plot\n",
    "cf_globe = iplt.contourf(cube_globe, 20)\n",
    "\n",
    "# more graphic design stuff\n",
    "plt.gca().coastlines()\n",
    "colorbar_globe = plt.colorbar(cf_globe, orientation='horizontal')\n",
    "plt.title('Globe ' + str(year))\n",
    "\n",
    "# Overall title\n",
    "plt.suptitle('Sea Surface Temperature', y=1)\n",
    "\n",
    "plt.show()"
   ]
  },
  {
   "cell_type": "code",
   "execution_count": null,
   "id": "a6923efe-a8c5-47d8-97c9-cc44acebbc55",
   "metadata": {},
   "outputs": [],
   "source": [
    "# TODO - Modify a few lines in above cell to compare the mean temperatures in Global region in year 1950 and in year 2016."
   ]
  },
  {
   "cell_type": "code",
   "execution_count": null,
   "id": "95b28ad1-43ea-4b32-af73-7cf370b045a2",
   "metadata": {},
   "outputs": [],
   "source": []
  }
 ],
 "metadata": {
  "kernelspec": {
   "display_name": "Python 3 (ipykernel)",
   "language": "python",
   "name": "python3"
  },
  "language_info": {
   "codemirror_mode": {
    "name": "ipython",
    "version": 3
   },
   "file_extension": ".py",
   "mimetype": "text/x-python",
   "name": "python",
   "nbconvert_exporter": "python",
   "pygments_lexer": "ipython3",
   "version": "3.10.4"
  }
 },
 "nbformat": 4,
 "nbformat_minor": 5
}
