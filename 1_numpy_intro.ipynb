{
 "cells": [
  {
   "cell_type": "markdown",
   "id": "f3d0ffd2",
   "metadata": {},
   "source": [
    "# Intro to NumPy\n",
    "\n",
    "Hello and welcome to your NumPy primer as part of NCI's Parallel Python data science course.\n",
    "\n",
    "This notebook is designed to cover the fundamentals of `NumPy` very briefly to give you a basis to use it as part of your data analytics workflow. \n"
   ]
  },
  {
   "cell_type": "code",
   "execution_count": null,
   "id": "6b0f1611-efbc-403c-907c-fbcbe560a415",
   "metadata": {},
   "outputs": [],
   "source": [
    "import os\n",
    "# The jupyter notebook is launched from your $HOME directory.\n",
    "# Change the working directory to the folder\n",
    "# which was created in your username directory under /scratch/vp91\n",
    "\n",
    "#TODO \n",
    "os.chdir(os.path.expandvars(\"/scratch/vp91/$USER/Data-Analytics/\"))\n"
   ]
  },
  {
   "cell_type": "markdown",
   "id": "5962a42c",
   "metadata": {},
   "source": [
    "## Intro\n",
    "\n",
    "What is NumPy? To take the simplest explanation, NumPy is the most fundamental package for numerical computing in Python. \n",
    "It provides a key functionality that Python lacks, array computing! I'll explain what I mean by array computing later. \n",
    "\n",
    "NumPy provides the basic building blocks for the numerical aspects of the PyData stack and is the underlying data representation in a whole host of packages (Think Pandas, Dask, ....)\n",
    "\n",
    "Alright, lets jump in! "
   ]
  },
  {
   "cell_type": "markdown",
   "id": "946f3efb",
   "metadata": {},
   "source": [
    "#### Adding two vectors **without** NumPy\n",
    "\n",
    "We are going to first explore what the world would look like without NumPy by trying to add two vectors of integers together. \n",
    "\n",
    "In vector notation this could be written as:\n",
    "\n",
    "$A + B = X$\n",
    "\n",
    "where A, B and X are vectors\n",
    "\n",
    "To do this in pure python we would use two lists:"
   ]
  },
  {
   "cell_type": "code",
   "execution_count": null,
   "id": "c1a583be",
   "metadata": {},
   "outputs": [],
   "source": [
    "# create our two vectors\n",
    "A = [0,1,2,3,4,5,6,7,8,9,10,11]\n",
    "B = [10,11,12,13,14,15,16,17,18,19,20,21]"
   ]
  },
  {
   "cell_type": "code",
   "execution_count": null,
   "id": "e4580806",
   "metadata": {},
   "outputs": [],
   "source": [
    "# lets loop over it using a numerical index and a for loop\n",
    "\n",
    "# check the vectors are the same length\n",
    "assert(len(A) == len(B))\n",
    "n_elem = len(A)\n",
    "X = []\n",
    "for i in range(n_elem):\n",
    "    X.append(A[i] + B[i])\n",
    "    \n",
    "X "
   ]
  },
  {
   "cell_type": "markdown",
   "id": "02ad7189",
   "metadata": {},
   "source": [
    "Okay this worked but it did seem a little verbose and clunky. If we were going to do things this way we might as well use a compiled language.\n",
    "\n",
    "It is also a little bit slow when our lists get bigger. Lets do some basic timings for a 100k element list"
   ]
  },
  {
   "cell_type": "code",
   "execution_count": null,
   "id": "15036a6e",
   "metadata": {},
   "outputs": [],
   "source": [
    "# construct our lists\n",
    "N = 100000\n",
    "A = []\n",
    "B = []\n",
    "for i in range(N):\n",
    "    A.append(i)\n",
    "    B.append(i)"
   ]
  },
  {
   "cell_type": "markdown",
   "id": "81f49650",
   "metadata": {},
   "source": [
    "Now lets time adding them together using the `%%timeit` Jupyter cell magic which does several runs of the cell and measures its execution time. Very handy!"
   ]
  },
  {
   "cell_type": "code",
   "execution_count": null,
   "id": "8a0c1379",
   "metadata": {},
   "outputs": [],
   "source": [
    "%%timeit\n",
    "X = []\n",
    "for i in range(N):\n",
    "    X.append(A[i] + B[i])"
   ]
  },
  {
   "cell_type": "markdown",
   "id": "5c2adfc2",
   "metadata": {},
   "source": [
    "On my laptop this took ~ 17 ms give or take. This may sound fast but this operation is very common and can be orders of magnitude faster in compiled languages like C or Fortran. \n",
    "\n",
    "**We can do better**\n"
   ]
  },
  {
   "cell_type": "markdown",
   "id": "6c8056d9",
   "metadata": {},
   "source": [
    "### Adding two vectors with NumPy\n",
    "\n",
    "Numpy is primarily library for doing array computing among other things. The wikipedia definition of array computing is :\n",
    "\n",
    "\"In computer science, array programming refers to solutions which allow the application of operations to an entire set of values at once. Such solutions are commonly used in scientific and engineering settings.\"\n",
    "\n",
    "What does this mean for us?\n",
    "\n",
    "We can do away with the loops over the number of elements and add our two vectors together directly. Lets see this in action."
   ]
  },
  {
   "cell_type": "code",
   "execution_count": null,
   "id": "c79ed616",
   "metadata": {},
   "outputs": [],
   "source": [
    "# import numpy\n",
    "import numpy as np"
   ]
  },
  {
   "cell_type": "markdown",
   "id": "9d955a48",
   "metadata": {},
   "source": [
    "First lets make arrays out of the 100K element lists we used before."
   ]
  },
  {
   "cell_type": "code",
   "execution_count": null,
   "id": "73f66b86",
   "metadata": {},
   "outputs": [],
   "source": [
    "A_numpy = np.array(A)\n",
    "B_numpy = np.array(B)\n",
    "A_numpy"
   ]
  },
  {
   "cell_type": "markdown",
   "id": "c20afe01",
   "metadata": {},
   "source": [
    "We will go more into the attributes of arrays later, but arrays have a handy attribute called `shape`"
   ]
  },
  {
   "cell_type": "code",
   "execution_count": null,
   "id": "7e31a6a0",
   "metadata": {},
   "outputs": [],
   "source": [
    "A_numpy.shape"
   ]
  },
  {
   "cell_type": "markdown",
   "id": "5588a9e8",
   "metadata": {},
   "source": [
    "We can see the array has a `shape` of 100000 in the first dimension\n",
    "\n",
    "Now lets add our arrays together using array computing !!"
   ]
  },
  {
   "cell_type": "code",
   "execution_count": null,
   "id": "3b9b967d",
   "metadata": {},
   "outputs": [],
   "source": [
    "X_numpy = A_numpy + B_numpy"
   ]
  },
  {
   "cell_type": "markdown",
   "id": "26f211b5",
   "metadata": {},
   "source": [
    "Wow that was a lot easier than our janky for loop but is it faster?"
   ]
  },
  {
   "cell_type": "code",
   "execution_count": null,
   "id": "20ffe87a",
   "metadata": {},
   "outputs": [],
   "source": [
    "%%timeit\n",
    "\n",
    "X_numpy = A_numpy + B_numpy"
   ]
  },
  {
   "cell_type": "markdown",
   "id": "dd7b42b3",
   "metadata": {},
   "source": [
    "On my laptop this is ~ 300x faster!!!\n",
    "\n",
    "But how? To cut a long story short, the numerically  intensive routines in NumPy  are written in C/C++ (sometimes Cython) giving us the speed of a compiled language with the ease of writing Python."
   ]
  },
  {
   "cell_type": "markdown",
   "id": "6577c275",
   "metadata": {},
   "source": [
    "### Challenge\n",
    "\n",
    "Multiply the vectors A and B to form array C using  NumPy"
   ]
  },
  {
   "cell_type": "code",
   "execution_count": null,
   "id": "8a6db5e3",
   "metadata": {},
   "outputs": [],
   "source": [
    "# compute C = A*B"
   ]
  },
  {
   "cell_type": "markdown",
   "id": "0d87a5e6",
   "metadata": {},
   "source": [
    "<details><summary><b>Solution</b></summary>\n",
    "   <pre>\n",
    "    <br> C_numpy = A_numpy* B_numpy\n",
    "   </pre>\n",
    "</details>"
   ]
  },
  {
   "cell_type": "markdown",
   "id": "cb030d15",
   "metadata": {},
   "source": [
    "What else can array computation with NumPy give us?\n",
    "\n",
    "There are also vectorised (a word used to described vector style operations) implementations of many special functions. For example\n",
    "\n"
   ]
  },
  {
   "cell_type": "code",
   "execution_count": null,
   "id": "4a8d1253",
   "metadata": {},
   "outputs": [],
   "source": [
    "sin_B = np.sin(B_numpy)\n",
    "sin_B"
   ]
  },
  {
   "cell_type": "code",
   "execution_count": null,
   "id": "e2563785",
   "metadata": {},
   "outputs": [],
   "source": [
    "mean_A = np.mean(A_numpy)\n",
    "mean_A"
   ]
  },
  {
   "cell_type": "markdown",
   "id": "e16ca34e",
   "metadata": {},
   "source": [
    "### Slicing and  multi-dimensional arrays\n",
    "\n",
    "Arrays can be sliced just like a list using `start:stop:step` notation"
   ]
  },
  {
   "cell_type": "code",
   "execution_count": null,
   "id": "09ae9049",
   "metadata": {},
   "outputs": [],
   "source": [
    "# construct a range of values using arange\n",
    "r = np.arange(20)\n",
    "r"
   ]
  },
  {
   "cell_type": "code",
   "execution_count": null,
   "id": "c9cff49a",
   "metadata": {},
   "outputs": [],
   "source": [
    "# grab every element \n",
    "r[:]"
   ]
  },
  {
   "cell_type": "code",
   "execution_count": null,
   "id": "ccdccac7",
   "metadata": {},
   "outputs": [],
   "source": [
    "# grab the first ten elements\n",
    "r[:10]"
   ]
  },
  {
   "cell_type": "code",
   "execution_count": null,
   "id": "30529d54",
   "metadata": {},
   "outputs": [],
   "source": [
    "# grab the 10th to 15th elements \n",
    "r[10:15]"
   ]
  },
  {
   "cell_type": "code",
   "execution_count": null,
   "id": "77a42c1b",
   "metadata": {},
   "outputs": [],
   "source": [
    "# grab the last 10 elements \n",
    "r[-10:]"
   ]
  },
  {
   "cell_type": "code",
   "execution_count": null,
   "id": "5a31f33a",
   "metadata": {},
   "outputs": [],
   "source": [
    "# grab every second element \n",
    "r[::2]"
   ]
  },
  {
   "cell_type": "markdown",
   "id": "9985b710",
   "metadata": {},
   "source": [
    "Arrays can have multiple dimensions! this is the real power of NumPy as you will hopefully see in the Parallel python course."
   ]
  },
  {
   "cell_type": "code",
   "execution_count": null,
   "id": "9915086e",
   "metadata": {},
   "outputs": [],
   "source": [
    "# make a range and then reshape it to by a two dimensional array\n",
    "N = 20\n",
    "two_dimensional = np.arange(3*N).reshape(N,3)\n",
    "two_dimensional"
   ]
  },
  {
   "cell_type": "code",
   "execution_count": null,
   "id": "4385631b",
   "metadata": {},
   "outputs": [],
   "source": [
    "two_dimensional.shape"
   ]
  },
  {
   "cell_type": "markdown",
   "id": "769d0d69",
   "metadata": {},
   "source": [
    "We can see that our array is two dimensional with shape `20,3`. Slicing works similarly for multidimensional arrays with the indicies ordered row, column\n"
   ]
  },
  {
   "cell_type": "code",
   "execution_count": null,
   "id": "f93f9832",
   "metadata": {},
   "outputs": [],
   "source": [
    "# slice to get a row  \n",
    "two_dimensional[0,:]\n"
   ]
  },
  {
   "cell_type": "code",
   "execution_count": null,
   "id": "a2bcf891",
   "metadata": {},
   "outputs": [],
   "source": [
    "#slice to get a column\n",
    "two_dimensional[:,1]\n"
   ]
  },
  {
   "cell_type": "code",
   "execution_count": null,
   "id": "3a6001f5",
   "metadata": {},
   "outputs": [],
   "source": [
    "# slice to get an individual value  (the first one)\n",
    "two_dimensional[0,0]"
   ]
  },
  {
   "cell_type": "markdown",
   "id": "012d5e18",
   "metadata": {},
   "source": [
    "### Using NumPy functions on multidimensional arrays\n",
    "\n",
    "If you only wish to compute a function or property on a single dimension you can provide an axis using the `axis=X` keyword."
   ]
  },
  {
   "cell_type": "code",
   "execution_count": null,
   "id": "3331659f",
   "metadata": {},
   "outputs": [],
   "source": [
    "# mean in both dimensions\n",
    "\n",
    "np.mean(two_dimensional)"
   ]
  },
  {
   "cell_type": "code",
   "execution_count": null,
   "id": "f080f210",
   "metadata": {},
   "outputs": [],
   "source": [
    "#mean in the first dimension\n",
    "np.mean(two_dimensional, axis=0)"
   ]
  },
  {
   "cell_type": "code",
   "execution_count": null,
   "id": "39b9902f",
   "metadata": {},
   "outputs": [],
   "source": [
    "# mean in the second dimension\n",
    "np.mean(two_dimensional, axis=1)"
   ]
  },
  {
   "cell_type": "markdown",
   "id": "3ee708d6",
   "metadata": {},
   "source": [
    "### More complicated operations\n",
    "\n",
    "NumPy also supports arbitrary linear algebra operations.\n",
    "The full scope of these is beyond this course, but just as an example lets compute the square of the matrix $Z$\n",
    "\n",
    "\\begin{matrix}\n",
    "1 & 2 & 3\\\\\n",
    "4 & 5 & 6\\\\\n",
    "7 & 8 & 9\n",
    "\\end{matrix}\n",
    "\n",
    "\n",
    "$Z^2 = ZZ$\n"
   ]
  },
  {
   "cell_type": "code",
   "execution_count": null,
   "id": "c19fea72",
   "metadata": {},
   "outputs": [],
   "source": [
    "Z = np.arange(9).reshape(3,3)\n",
    "\n",
    "z_squared = np.matmul(Z, Z)\n",
    "z_squared"
   ]
  },
  {
   "cell_type": "markdown",
   "id": "48a69820",
   "metadata": {},
   "source": [
    "The same can be achieved using the matmul operator `@`"
   ]
  },
  {
   "cell_type": "code",
   "execution_count": null,
   "id": "2b8b4785",
   "metadata": {},
   "outputs": [],
   "source": [
    "z_squared = Z@Z\n",
    "z_squared"
   ]
  },
  {
   "cell_type": "markdown",
   "id": "36250b14",
   "metadata": {},
   "source": [
    "### More than two dimensions\n",
    "\n",
    "We can make arrays up to 32 dimensions. Lets make two 3D tensors X and Y and find their tensor product $ X \\otimes Y$"
   ]
  },
  {
   "cell_type": "code",
   "execution_count": null,
   "id": "c2f2d003",
   "metadata": {},
   "outputs": [],
   "source": [
    "N = 20\n",
    "X = np.arange(N*3*3).reshape(N,3,3)\n",
    "Y = np.arange(N*3*3).reshape(N,3,3)\n",
    "X.shape\n"
   ]
  },
  {
   "cell_type": "code",
   "execution_count": null,
   "id": "82f5a7c9",
   "metadata": {},
   "outputs": [],
   "source": [
    "res = np.tensordot(X, Y, axes=0)\n"
   ]
  },
  {
   "cell_type": "code",
   "execution_count": null,
   "id": "9897afec",
   "metadata": {},
   "outputs": [],
   "source": [
    "res.shape"
   ]
  },
  {
   "cell_type": "markdown",
   "id": "5490f9f8",
   "metadata": {},
   "source": [
    "### Summary\n",
    "\n",
    "The maths we have done here is not really important. In fact I am terrible at linear algebra myself.\n",
    "\n",
    "What is important is that you can see the immense power of array computation using numpy and have a feel for how to work with arrays rather than lists or individual numbers. \n",
    "\n",
    "The power of NumPy is incredible and I guarantee that if you have a numerical  problem it can be made simpler with NumPy!\n",
    "\n",
    "Hopefully this has given you just a small taste of what you can do with numpy and helps you out with the rest of the course. "
   ]
  }
 ],
 "metadata": {
  "kernelspec": {
   "display_name": "Python 3 (ipykernel)",
   "language": "python",
   "name": "python3"
  },
  "language_info": {
   "codemirror_mode": {
    "name": "ipython",
    "version": 3
   },
   "file_extension": ".py",
   "mimetype": "text/x-python",
   "name": "python",
   "nbconvert_exporter": "python",
   "pygments_lexer": "ipython3",
   "version": "3.10.4"
  }
 },
 "nbformat": 4,
 "nbformat_minor": 5
}
